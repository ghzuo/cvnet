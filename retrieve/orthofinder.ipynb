{
 "cells": [
  {
   "cell_type": "code",
   "execution_count": 1,
   "metadata": {},
   "outputs": [],
   "source": [
    "import pandas as pd\n",
    "import matplotlib.pyplot as plt\n",
    "import orthoFinderTools as oft"
   ]
  },
  {
   "cell_type": "code",
   "execution_count": 2,
   "metadata": {},
   "outputs": [],
   "source": [
    "dirlist = [(\"Special\", \"../data/OrthoFinder/Results_Sep16/\"), \n",
    "           (\"Genus\", \"../data/OrthoFinder/Results_Oct01/\"), \n",
    "           (\"Family\", \"../data/OrthoFinder/Results_Oct01_1/\"),\n",
    "           (\"Order\",\"../data/OrthoFinder/Results_Sep30/\"),\n",
    "           (\"Class\", \"../data/OrthoFinder/Results_Oct01_2/\"),\n",
    "           (\"Phylum\",\"../data/OrthoFinder/Results_Sep30_1/\")]"
   ]
  },
  {
   "cell_type": "code",
   "execution_count": 3,
   "metadata": {},
   "outputs": [],
   "source": [
    "def statOrthogrp(dir):\n",
    "    oggc = oft.readGeneCount(dir)\n",
    "    nfgrp = oggc.eq(0).any(axis=1).value_counts()[False]\n",
    "    nfsubgrp = oggc.iloc[:,:100].eq(0).any(axis=1).value_counts()[False]\n",
    "    addtion = oggc.columns[[100]][0]\n",
    "    return nfgrp, nfsubgrp, addtion"
   ]
  },
  {
   "cell_type": "code",
   "execution_count": 4,
   "metadata": {},
   "outputs": [
    {
     "name": "stdout",
     "output_type": "stream",
     "text": [
      "Special\t2862\t2862\tTotal\n",
      "Genus\t2678\t2862\tEscherichia_albertii_KF1_uid232181.NCBI\n",
      "Family\t2557\t2863\tSalmonella_bongori_NCTC_12419_uid351.NCBI\n",
      "Order\t2120\t2864\tYersinia_pestis_Pestoides_F_uid16700.NCBI\n",
      "Class\t1633\t2854\tPseudomonas_fluorescens_A506_uid165185.NCBI\n",
      "Phylum\t838\t2843\tZymomonas_mobilis_subsp_pomaceae_ATCC_29192_uid34927.NCBI\n"
     ]
    }
   ],
   "source": [
    "for taxon, dir in dirlist:\n",
    "    nfgrp, nfsubgrp, addtion = statOrthogrp(dir)\n",
    "    # lnks = oft.getSubLinks(dir, 491676)\n",
    "    print(taxon, nfgrp, nfsubgrp, addtion, sep='\\t')"
   ]
  },
  {
   "cell_type": "code",
   "execution_count": 7,
   "metadata": {},
   "outputs": [],
   "source": [
    "#taxon, dir = dirlist[3]\n",
    "for taxon, dri in dirlist[1:]\n",
    "    lnks = oft.getSubLinks(dir, 491676)\n",
    "    fname = \"../data/OrthoFinder/NewGraph/\" + taxon + \".mci\"\n",
    "    oft.writeGraph2MCL(lnks, fname)"
   ]
  },
  {
   "cell_type": "code",
   "execution_count": null,
   "metadata": {},
   "outputs": [],
   "source": []
  }
 ],
 "metadata": {
  "kernelspec": {
   "display_name": "base",
   "language": "python",
   "name": "python3"
  },
  "language_info": {
   "codemirror_mode": {
    "name": "ipython",
    "version": 3
   },
   "file_extension": ".py",
   "mimetype": "text/x-python",
   "name": "python",
   "nbconvert_exporter": "python",
   "pygments_lexer": "ipython3",
   "version": "3.10.13"
  }
 },
 "nbformat": 4,
 "nbformat_minor": 2
}
