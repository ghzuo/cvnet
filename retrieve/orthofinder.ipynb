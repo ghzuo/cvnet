{
 "cells": [
  {
   "cell_type": "code",
   "execution_count": 1,
   "metadata": {},
   "outputs": [],
   "source": [
    "import pandas as pd\n",
    "import orthoFinderTools as oft"
   ]
  },
  {
   "cell_type": "code",
   "execution_count": 2,
   "metadata": {},
   "outputs": [],
   "source": [
    "dirlist = [(\"Special\", \"../data/OrthoFinder/Results_Sep16/\"), \n",
    "           (\"Genus\", \"../data/OrthoFinder/Results_Oct01/\"), \n",
    "           (\"Family\", \"../data/OrthoFinder/Results_Oct01_1/\"),\n",
    "           (\"Order\",\"../data/OrthoFinder/Results_Sep30/\"),\n",
    "           (\"Class\", \"../data/OrthoFinder/Results_Oct01_2/\"),\n",
    "           (\"Phylum\",\"../data/OrthoFinder/Results_Sep30_1/\")]"
   ]
  },
  {
   "cell_type": "code",
   "execution_count": 3,
   "metadata": {},
   "outputs": [],
   "source": [
    "def statOrthogrp(dir):\n",
    "    oggc = oft.readGeneCount(dir)\n",
    "    nfgrp = oggc.eq(0).any(axis=1).value_counts()[False]\n",
    "    nfsubgrp = oggc.iloc[:,:100].eq(0).any(axis=1).value_counts()[False]\n",
    "    addtion = oggc.columns[[100]][0]\n",
    "    return nfgrp, nfsubgrp, addtion"
   ]
  },
  {
   "cell_type": "code",
   "execution_count": 4,
   "metadata": {},
   "outputs": [
    {
     "name": "stdout",
     "output_type": "stream",
     "text": [
      "Special\t2862\t2862\t491676\tTotal\n"
     ]
    }
   ],
   "source": [
    "for taxon, dir in dirlist:\n",
    "    nfgrp, nfsubgrp, addtion = statOrthogrp(dir)\n",
    "    lnks = oft.getSubLinks(dir, 491676)\n",
    "    print(taxon, nfgrp, nfsubgrp, len(lnks), addtion, sep='\\t')"
   ]
  }
 ],
 "metadata": {
  "kernelspec": {
   "display_name": "base",
   "language": "python",
   "name": "python3"
  },
  "language_info": {
   "codemirror_mode": {
    "name": "ipython",
    "version": 3
   },
   "file_extension": ".py",
   "mimetype": "text/x-python",
   "name": "python",
   "nbconvert_exporter": "python",
   "pygments_lexer": "ipython3",
   "version": "3.10.13"
  }
 },
 "nbformat": 4,
 "nbformat_minor": 2
}
