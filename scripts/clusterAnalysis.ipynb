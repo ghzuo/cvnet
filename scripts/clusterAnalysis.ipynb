{
 "cells": [
  {
   "cell_type": "markdown",
   "metadata": {},
   "source": [
    "# Analysis of MCL"
   ]
  },
  {
   "cell_type": "code",
   "execution_count": 1,
   "metadata": {
    "execution": {
     "iopub.execute_input": "2024-12-07T08:25:24.011424Z",
     "iopub.status.busy": "2024-12-07T08:25:24.011254Z",
     "iopub.status.idle": "2024-12-07T08:25:24.479325Z",
     "shell.execute_reply": "2024-12-07T08:25:24.478852Z",
     "shell.execute_reply.started": "2024-12-07T08:25:24.011406Z"
    }
   },
   "outputs": [],
   "source": [
    "import pandas as pd\n",
    "import numpy as np\n",
    "import matplotlib.pyplot as plt\n",
    "import orthoFinderTools as oft\n",
    "\n",
    "%load_ext autoreload\n",
    "%autoreload 1\n",
    "%aimport orthoFinderTools"
   ]
  },
  {
   "cell_type": "markdown",
   "metadata": {},
   "source": [
    "## Read Seqence Info"
   ]
  },
  {
   "cell_type": "code",
   "execution_count": 2,
   "metadata": {
    "execution": {
     "iopub.execute_input": "2024-12-07T08:25:24.480197Z",
     "iopub.status.busy": "2024-12-07T08:25:24.479979Z",
     "iopub.status.idle": "2024-12-07T08:25:24.482522Z",
     "shell.execute_reply": "2024-12-07T08:25:24.482045Z",
     "shell.execute_reply.started": "2024-12-07T08:25:24.480179Z"
    }
   },
   "outputs": [],
   "source": [
    "datadir = \"../data/CVTree/\"\n",
    "mtxlab  = \"Hao.cv5\""
   ]
  },
  {
   "cell_type": "code",
   "execution_count": 3,
   "metadata": {
    "execution": {
     "iopub.execute_input": "2024-12-07T08:25:24.483948Z",
     "iopub.status.busy": "2024-12-07T08:25:24.483707Z",
     "iopub.status.idle": "2024-12-07T08:25:24.610015Z",
     "shell.execute_reply": "2024-12-07T08:25:24.609503Z",
     "shell.execute_reply.started": "2024-12-07T08:25:24.483932Z"
    }
   },
   "outputs": [],
   "source": [
    "# read sequence name\n",
    "seqs = oft.readSeqName(datadir + mtxlab + \".name\")"
   ]
  },
  {
   "cell_type": "markdown",
   "metadata": {},
   "source": [
    "# Statistics Cluster"
   ]
  },
  {
   "cell_type": "code",
   "execution_count": 4,
   "metadata": {
    "execution": {
     "iopub.execute_input": "2024-12-07T08:25:24.610987Z",
     "iopub.status.busy": "2024-12-07T08:25:24.610726Z",
     "iopub.status.idle": "2024-12-07T08:25:24.613918Z",
     "shell.execute_reply": "2024-12-07T08:25:24.613426Z",
     "shell.execute_reply.started": "2024-12-07T08:25:24.610968Z"
    }
   },
   "outputs": [],
   "source": [
    "cutoffs = [10, 15, 20, 25, 30, 34, 36, 38, 40, 42, 45, 48]"
   ]
  },
  {
   "cell_type": "code",
   "execution_count": 5,
   "metadata": {
    "execution": {
     "iopub.execute_input": "2024-12-07T08:25:24.614740Z",
     "iopub.status.busy": "2024-12-07T08:25:24.614495Z",
     "iopub.status.idle": "2024-12-07T08:25:58.017338Z",
     "shell.execute_reply": "2024-12-07T08:25:58.016783Z",
     "shell.execute_reply.started": "2024-12-07T08:25:24.614724Z"
    }
   },
   "outputs": [],
   "source": [
    "# read cluster\n",
    "clslist = []\n",
    "for sym in cutoffs:\n",
    "    cls = oft.fileClusters(datadir + mtxlab + '.' + str(sym) + \".grp\")\n",
    "    clslist.append(pd.DataFrame(oft.statCl(cls, seqs['GenomeIndex']).T, columns=[\"Ngenome\", \"Ngene\"]))"
   ]
  },
  {
   "cell_type": "code",
   "execution_count": 6,
   "metadata": {
    "execution": {
     "iopub.execute_input": "2024-12-07T08:25:58.018406Z",
     "iopub.status.busy": "2024-12-07T08:25:58.018128Z",
     "iopub.status.idle": "2024-12-07T08:25:58.048715Z",
     "shell.execute_reply": "2024-12-07T08:25:58.048262Z",
     "shell.execute_reply.started": "2024-12-07T08:25:58.018386Z"
    }
   },
   "outputs": [
    {
     "data": {
      "text/html": [
       "<div>\n",
       "<style scoped>\n",
       "    .dataframe tbody tr th:only-of-type {\n",
       "        vertical-align: middle;\n",
       "    }\n",
       "\n",
       "    .dataframe tbody tr th {\n",
       "        vertical-align: top;\n",
       "    }\n",
       "\n",
       "    .dataframe thead th {\n",
       "        text-align: right;\n",
       "    }\n",
       "</style>\n",
       "<table border=\"1\" class=\"dataframe\">\n",
       "  <thead>\n",
       "    <tr style=\"text-align: right;\">\n",
       "      <th></th>\n",
       "      <th>cutoff</th>\n",
       "      <th>Full</th>\n",
       "      <th>Solo</th>\n",
       "    </tr>\n",
       "  </thead>\n",
       "  <tbody>\n",
       "    <tr>\n",
       "      <th>0</th>\n",
       "      <td>0.10</td>\n",
       "      <td>2358</td>\n",
       "      <td>2346</td>\n",
       "    </tr>\n",
       "    <tr>\n",
       "      <th>1</th>\n",
       "      <td>0.15</td>\n",
       "      <td>2661</td>\n",
       "      <td>2646</td>\n",
       "    </tr>\n",
       "    <tr>\n",
       "      <th>2</th>\n",
       "      <td>0.20</td>\n",
       "      <td>2794</td>\n",
       "      <td>2775</td>\n",
       "    </tr>\n",
       "    <tr>\n",
       "      <th>3</th>\n",
       "      <td>0.25</td>\n",
       "      <td>2929</td>\n",
       "      <td>2887</td>\n",
       "    </tr>\n",
       "    <tr>\n",
       "      <th>4</th>\n",
       "      <td>0.30</td>\n",
       "      <td>2989</td>\n",
       "      <td>2884</td>\n",
       "    </tr>\n",
       "    <tr>\n",
       "      <th>5</th>\n",
       "      <td>0.34</td>\n",
       "      <td>3009</td>\n",
       "      <td>2848</td>\n",
       "    </tr>\n",
       "    <tr>\n",
       "      <th>6</th>\n",
       "      <td>0.36</td>\n",
       "      <td>3016</td>\n",
       "      <td>2817</td>\n",
       "    </tr>\n",
       "    <tr>\n",
       "      <th>7</th>\n",
       "      <td>0.38</td>\n",
       "      <td>3018</td>\n",
       "      <td>2774</td>\n",
       "    </tr>\n",
       "    <tr>\n",
       "      <th>8</th>\n",
       "      <td>0.40</td>\n",
       "      <td>3010</td>\n",
       "      <td>2727</td>\n",
       "    </tr>\n",
       "    <tr>\n",
       "      <th>9</th>\n",
       "      <td>0.42</td>\n",
       "      <td>2997</td>\n",
       "      <td>2649</td>\n",
       "    </tr>\n",
       "    <tr>\n",
       "      <th>10</th>\n",
       "      <td>0.45</td>\n",
       "      <td>2893</td>\n",
       "      <td>2320</td>\n",
       "    </tr>\n",
       "    <tr>\n",
       "      <th>11</th>\n",
       "      <td>0.48</td>\n",
       "      <td>2287</td>\n",
       "      <td>796</td>\n",
       "    </tr>\n",
       "  </tbody>\n",
       "</table>\n",
       "</div>"
      ],
      "text/plain": [
       "    cutoff  Full  Solo\n",
       "0     0.10  2358  2346\n",
       "1     0.15  2661  2646\n",
       "2     0.20  2794  2775\n",
       "3     0.25  2929  2887\n",
       "4     0.30  2989  2884\n",
       "5     0.34  3009  2848\n",
       "6     0.36  3016  2817\n",
       "7     0.38  3018  2774\n",
       "8     0.40  3010  2727\n",
       "9     0.42  2997  2649\n",
       "10    0.45  2893  2320\n",
       "11    0.48  2287   796"
      ]
     },
     "execution_count": 6,
     "metadata": {},
     "output_type": "execute_result"
    }
   ],
   "source": [
    "# statistic full coved cluster\n",
    "nfcls = []\n",
    "ngnm = 20\n",
    "for cutoff, cls in zip(cutoffs, clslist):\n",
    "    nfgm = cls['Ngenome'].value_counts()[ngnm]\n",
    "    nfgn = cls.value_counts()[ngnm,ngnm]\n",
    "    nfcls.append([cutoff/100, nfgm, nfgn])\n",
    "pd.DataFrame(nfcls, columns=['cutoff', 'Full', 'Solo'])"
   ]
  },
  {
   "cell_type": "markdown",
   "metadata": {},
   "source": [
    "## Show A Case"
   ]
  },
  {
   "cell_type": "code",
   "execution_count": 7,
   "metadata": {
    "execution": {
     "iopub.execute_input": "2024-12-07T08:25:58.049630Z",
     "iopub.status.busy": "2024-12-07T08:25:58.049394Z",
     "iopub.status.idle": "2024-12-07T08:25:58.052043Z",
     "shell.execute_reply": "2024-12-07T08:25:58.051646Z",
     "shell.execute_reply.started": "2024-12-07T08:25:58.049612Z"
    }
   },
   "outputs": [],
   "source": [
    "clsStat = clslist[3]"
   ]
  },
  {
   "cell_type": "code",
   "execution_count": 8,
   "metadata": {
    "execution": {
     "iopub.execute_input": "2024-12-07T08:25:58.052722Z",
     "iopub.status.busy": "2024-12-07T08:25:58.052563Z",
     "iopub.status.idle": "2024-12-07T08:25:58.209607Z",
     "shell.execute_reply": "2024-12-07T08:25:58.209185Z",
     "shell.execute_reply.started": "2024-12-07T08:25:58.052706Z"
    }
   },
   "outputs": [
    {
     "data": {
      "text/plain": [
       "<Axes: >"
      ]
     },
     "execution_count": 8,
     "metadata": {},
     "output_type": "execute_result"
    },
    {
     "data": {
      "image/png": "[encoded data removed]",
      "text/plain": [
       "<Figure size 640x480 with 1 Axes>"
      ]
     },
     "metadata": {},
     "output_type": "display_data"
    }
   ],
   "source": [
    "clsStat[\"Ngenome\"].hist(bins = np.arange(1,21))"
   ]
  },
  {
   "cell_type": "code",
   "execution_count": 9,
   "metadata": {
    "execution": {
     "iopub.execute_input": "2024-12-07T08:25:58.210466Z",
     "iopub.status.busy": "2024-12-07T08:25:58.210230Z",
     "iopub.status.idle": "2024-12-07T08:25:58.214973Z",
     "shell.execute_reply": "2024-12-07T08:25:58.214564Z",
     "shell.execute_reply.started": "2024-12-07T08:25:58.210449Z"
    }
   },
   "outputs": [
    {
     "data": {
      "text/plain": [
       "Ngenome\n",
       "1     3482\n",
       "20    2929\n",
       "2     1473\n",
       "3      665\n",
       "5      620\n",
       "7      328\n",
       "4      309\n",
       "6      219\n",
       "19     216\n",
       "17     179\n",
       "8      177\n",
       "18     138\n",
       "9      137\n",
       "11     107\n",
       "16      87\n",
       "14      84\n",
       "15      83\n",
       "12      78\n",
       "10      73\n",
       "13      61\n",
       "Name: count, dtype: int64"
      ]
     },
     "execution_count": 9,
     "metadata": {},
     "output_type": "execute_result"
    }
   ],
   "source": [
    "clsStat[\"Ngenome\"].value_counts()"
   ]
  },
  {
   "cell_type": "code",
   "execution_count": 10,
   "metadata": {
    "execution": {
     "iopub.execute_input": "2024-12-07T08:25:58.215778Z",
     "iopub.status.busy": "2024-12-07T08:25:58.215563Z",
     "iopub.status.idle": "2024-12-07T08:25:58.303395Z",
     "shell.execute_reply": "2024-12-07T08:25:58.303013Z",
     "shell.execute_reply.started": "2024-12-07T08:25:58.215762Z"
    }
   },
   "outputs": [
    {
     "data": {
      "image/png": "[encoded data removed]",
      "text/plain": [
       "<Figure size 640x480 with 1 Axes>"
      ]
     },
     "metadata": {},
     "output_type": "display_data"
    }
   ],
   "source": [
    "hist,bins = np.histogram(clsStat['Ngene'], density=True,\n",
    "         bins=[min(clsStat['Ngene']), 10, 15, 19.1, 20.1, 30, max(clsStat['Ngene'])])\n",
    "xlabel = ['('+str(int(x[0]))+',' + str(int(x[1])) + ')' for x in np.column_stack((bins[:-1],bins[1:]))]\n",
    "plt.bar(xlabel, hist)\n",
    "plt.xticks(rotation=45)\n",
    "plt.show()"
   ]
  },
  {
   "cell_type": "code",
   "execution_count": 11,
   "metadata": {
    "execution": {
     "iopub.execute_input": "2024-12-07T08:25:58.304133Z",
     "iopub.status.busy": "2024-12-07T08:25:58.303921Z",
     "iopub.status.idle": "2024-12-07T08:25:58.308394Z",
     "shell.execute_reply": "2024-12-07T08:25:58.308002Z",
     "shell.execute_reply.started": "2024-12-07T08:25:58.304118Z"
    }
   },
   "outputs": [
    {
     "data": {
      "text/plain": [
       "Ngene\n",
       "1     3417\n",
       "20    2902\n",
       "2     1479\n",
       "3      645\n",
       "5      632\n",
       "      ... \n",
       "50       1\n",
       "49       1\n",
       "48       1\n",
       "46       1\n",
       "34       1\n",
       "Name: count, Length: 66, dtype: int64"
      ]
     },
     "execution_count": 11,
     "metadata": {},
     "output_type": "execute_result"
    }
   ],
   "source": [
    "clsStat[\"Ngene\"].value_counts()"
   ]
  },
  {
   "cell_type": "code",
   "execution_count": null,
   "metadata": {},
   "outputs": [],
   "source": []
  }
 ],
 "metadata": {
  "kernelspec": {
   "display_name": "Python 3 (ipykernel)",
   "language": "python",
   "name": "python3"
  },
  "language_info": {
   "codemirror_mode": {
    "name": "ipython",
    "version": 3
   },
   "file_extension": ".py",
   "mimetype": "text/x-python",
   "name": "python",
   "nbconvert_exporter": "python",
   "pygments_lexer": "ipython3",
   "version": "3.8.19"
  }
 },
 "nbformat": 4,
 "nbformat_minor": 4
}
