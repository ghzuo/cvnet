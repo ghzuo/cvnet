{
 "cells": [
  {
   "cell_type": "markdown",
   "metadata": {},
   "source": [
    "# Analysis Homologous Genes Network"
   ]
  },
  {
   "cell_type": "code",
   "execution_count": 1,
   "metadata": {},
   "outputs": [],
   "source": [
    "from igraph import Graph\n",
    "import pandas as pd\n",
    "import toolkit as oft\n",
    "\n",
    "%load_ext autoreload\n",
    "%autoreload 1\n",
    "%aimport toolkit"
   ]
  },
  {
   "cell_type": "code",
   "execution_count": 2,
   "metadata": {},
   "outputs": [],
   "source": [
    "datadir = \"../example/edge/\"\n",
    "ndxfile = datadir + 'GeneIndex.tsv'\n",
    "fname = \"faa.Count5.InterList.RBH10\"\n",
    "fpath = datadir + fname"
   ]
  },
  {
   "cell_type": "code",
   "execution_count": 3,
   "metadata": {},
   "outputs": [],
   "source": [
    "# read index file\n",
    "_, gIndex = oft.readSeqGenome(ndxfile)\n",
    "ngno = gIndex[-1] + 1"
   ]
  },
  {
   "cell_type": "code",
   "execution_count": 6,
   "metadata": {},
   "outputs": [],
   "source": [
    "df = pd.read_csv(fpath, sep='\\t', header=None)"
   ]
  },
  {
   "cell_type": "code",
   "execution_count": 7,
   "metadata": {},
   "outputs": [],
   "source": [
    "g = Graph(df, directed=False)"
   ]
  },
  {
   "cell_type": "code",
   "execution_count": 14,
   "metadata": {},
   "outputs": [],
   "source": [
    "print(f'Number of Nodes: {g.vcount()}')\n",
    "print(f'Number of Edges: {g.ecount()}')\n",
    "print(f'Degree of Network: {sum(g.degree())/g.vcount()}')"
   ]
  },
  {
   "cell_type": "code",
   "execution_count": 15,
   "metadata": {},
   "outputs": [],
   "source": [
    "cls = g.connected_components()"
   ]
  },
  {
   "cell_type": "code",
   "execution_count": 40,
   "metadata": {},
   "outputs": [],
   "source": [
    "scls = pd.DataFrame(oft.statCl(cls, gIndex).T,\n",
    "                    columns=[\"Ngenome\", \"Ngene\"])\n",
    "ngene = scls.value_counts()\n",
    "ngeno = scls['Ngenome'].value_counts()"
   ]
  },
  {
   "cell_type": "code",
   "execution_count": null,
   "metadata": {},
   "outputs": [],
   "source": [
    "print(f'Number of full clusters: {ngeno[ngno]}')\n",
    "print(f'Number of solo clusters: {ngene[(ngno, ngno)]}')"
   ]
  },
  {
   "cell_type": "code",
   "execution_count": null,
   "metadata": {},
   "outputs": [],
   "source": []
  }
 ],
 "metadata": {
  "kernelspec": {
   "display_name": "base",
   "language": "python",
   "name": "python3"
  },
  "language_info": {
   "codemirror_mode": {
    "name": "ipython",
    "version": 3
   },
   "file_extension": ".py",
   "mimetype": "text/x-python",
   "name": "python",
   "nbconvert_exporter": "python",
   "pygments_lexer": "ipython3",
   "version": "3.10.13"
  }
 },
 "nbformat": 4,
 "nbformat_minor": 2
}
