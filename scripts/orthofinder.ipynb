{
 "cells": [
  {
   "cell_type": "code",
   "execution_count": 1,
   "metadata": {},
   "outputs": [],
   "source": [
    "import pandas as pd\n",
    "import numpy as np\n",
    "import matplotlib.pyplot as plt\n",
    "import orthoFinderTools as oft\n",
    "import importlib"
   ]
  },
  {
   "cell_type": "code",
   "execution_count": 2,
   "metadata": {},
   "outputs": [],
   "source": [
    "oft = importlib.reload(oft)"
   ]
  },
  {
   "cell_type": "code",
   "execution_count": 3,
   "metadata": {},
   "outputs": [],
   "source": [
    "dirlist = [(\"Special\", \"../data/OrthoFinder/Results_Sep16/\"), \n",
    "           (\"Genus\", \"../data/OrthoFinder/Results_Oct01/\"), \n",
    "           (\"Family\", \"../data/OrthoFinder/Results_Oct01_1/\"),\n",
    "           (\"Order\",\"../data/OrthoFinder/Results_Sep30/\"),\n",
    "           (\"Class\", \"../data/OrthoFinder/Results_Oct01_2/\"),\n",
    "           (\"Phylum\",\"../data/OrthoFinder/Results_Sep30_1/\")]"
   ]
  },
  {
   "cell_type": "markdown",
   "metadata": {},
   "source": [
    "# Original Method"
   ]
  },
  {
   "cell_type": "code",
   "execution_count": 4,
   "metadata": {},
   "outputs": [],
   "source": [
    "def statOrthogrp(dir):\n",
    "    oggc = oft.readGeneCount(dir)\n",
    "    nfgrp = oggc.eq(0).any(axis=1).value_counts()[False]\n",
    "    nfsubgrp = oggc.iloc[:,:100].eq(0).any(axis=1).value_counts()[False]\n",
    "    addtion = oggc.columns[[100]][0]\n",
    "    return nfgrp, nfsubgrp, addtion"
   ]
  },
  {
   "cell_type": "code",
   "execution_count": 5,
   "metadata": {},
   "outputs": [
    {
     "name": "stdout",
     "output_type": "stream",
     "text": [
      "Special\t2862\t2862\tTotal\n",
      "Genus\t2678\t2862\tEscherichia_albertii_KF1_uid232181.NCBI\n",
      "Family\t2557\t2863\tSalmonella_bongori_NCTC_12419_uid351.NCBI\n",
      "Order\t2120\t2864\tYersinia_pestis_Pestoides_F_uid16700.NCBI\n",
      "Class\t1633\t2854\tPseudomonas_fluorescens_A506_uid165185.NCBI\n",
      "Phylum\t838\t2843\tZymomonas_mobilis_subsp_pomaceae_ATCC_29192_uid34927.NCBI\n"
     ]
    }
   ],
   "source": [
    "for taxon, dir in dirlist:\n",
    "    nfgrp, nfsubgrp, addtion = statOrthogrp(dir)\n",
    "    print(taxon, nfgrp, nfsubgrp, addtion, sep='\\t')"
   ]
  },
  {
   "cell_type": "markdown",
   "metadata": {},
   "source": [
    "# Testing new Method"
   ]
  },
  {
   "cell_type": "code",
   "execution_count": 11,
   "metadata": {},
   "outputs": [],
   "source": [
    "newdir = \"../data/OrthoFinder/NewGraph/\""
   ]
  },
  {
   "cell_type": "code",
   "execution_count": 17,
   "metadata": {},
   "outputs": [
    {
     "name": "stdout",
     "output_type": "stream",
     "text": [
      "for item:  Special\n"
     ]
    },
    {
     "name": "stderr",
     "output_type": "stream",
     "text": [
      "[mcl] cut <12> instances of overlap\n"
     ]
    },
    {
     "name": "stdout",
     "output_type": "stream",
     "text": [
      "for item:  Genus\n"
     ]
    },
    {
     "name": "stderr",
     "output_type": "stream",
     "text": [
      "[mcl] cut <10> instances of overlap\n"
     ]
    },
    {
     "name": "stdout",
     "output_type": "stream",
     "text": [
      "for item:  Family\n"
     ]
    },
    {
     "name": "stderr",
     "output_type": "stream",
     "text": [
      "[mcl] cut <14> instances of overlap\n"
     ]
    },
    {
     "name": "stdout",
     "output_type": "stream",
     "text": [
      "for item:  Order\n"
     ]
    },
    {
     "name": "stderr",
     "output_type": "stream",
     "text": [
      "[mcl] cut <6> instances of overlap\n"
     ]
    },
    {
     "name": "stdout",
     "output_type": "stream",
     "text": [
      "for item:  Class\n"
     ]
    },
    {
     "name": "stderr",
     "output_type": "stream",
     "text": [
      "[mcl] cut <4> instances of overlap\n"
     ]
    },
    {
     "name": "stdout",
     "output_type": "stream",
     "text": [
      "for item:  Phylum\n"
     ]
    },
    {
     "name": "stderr",
     "output_type": "stream",
     "text": [
      "[mcl] cut <5> instances of overlap\n"
     ]
    }
   ],
   "source": [
    "# get new clustals\n",
    "# %%script false --no-raise-error\n",
    "for taxon, dir in dirlist:\n",
    "    print(\"for item: \", taxon)\n",
    "    lnks = oft.getSubLinks(dir, 491676)\n",
    "    fname = newdir + taxon + \".mci\"\n",
    "    oft.writeGraph2MCL(lnks, fname, False)\n",
    "    oft.runMCL(fname, inf=1.2)"
   ]
  },
  {
   "cell_type": "code",
   "execution_count": 18,
   "metadata": {},
   "outputs": [],
   "source": [
    "# read the sequence ids\n",
    "taxon, dir = dirlist[0]\n",
    "seq = oft.readSeqID(dir)\n",
    "ngenome = seq[0, -1] + 1"
   ]
  },
  {
   "cell_type": "code",
   "execution_count": 19,
   "metadata": {},
   "outputs": [
    {
     "name": "stdout",
     "output_type": "stream",
     "text": [
      "Special 2904\n",
      "Genus 2903\n",
      "Family 2903\n",
      "Order 2886\n",
      "Class 2881\n",
      "Phylum 2862\n"
     ]
    }
   ],
   "source": [
    "# output reslult\n",
    "for taxon, dir in dirlist:\n",
    "    fname = newdir + taxon + \".mci.mcl\"\n",
    "    cls = oft.fileClusters(fname)\n",
    "    nfull = 0\n",
    "    for cl in cls:\n",
    "        ngene = np.zeros(ngenome)\n",
    "        for ndx in cl:\n",
    "            ngene[seq[0, ndx]] += 1\n",
    "        if(ngene.all()):\n",
    "            nfull += 1\n",
    "    print(taxon, nfull)"
   ]
  }
 ],
 "metadata": {
  "kernelspec": {
   "display_name": "Python 3 (ipykernel)",
   "language": "python",
   "name": "python3"
  },
  "language_info": {
   "codemirror_mode": {
    "name": "ipython",
    "version": 3
   },
   "file_extension": ".py",
   "mimetype": "text/x-python",
   "name": "python",
   "nbconvert_exporter": "python",
   "pygments_lexer": "ipython3",
   "version": "3.8.19"
  }
 },
 "nbformat": 4,
 "nbformat_minor": 4
}
